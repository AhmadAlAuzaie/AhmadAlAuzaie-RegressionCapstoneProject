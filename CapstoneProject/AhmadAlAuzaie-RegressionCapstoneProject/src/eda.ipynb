{
 "cells": [
  {
   "cell_type": "code",
   "execution_count": null,
   "metadata": {},
   "outputs": [],
   "source": [
    "import pandas as pd\n",
    "import seaborn as sns\n",
    "import matplotlib.pyplot as plt\n",
    "import yaml\n",
    "\n",
    "# First, we load up the config file to know what data and features we're dealing with.\n",
    "with open('config.yaml', 'r') as file:\n",
    "    config = yaml.safe_load(file)\n",
    "\n",
    "# Now we read the data from the capstone project.\n",
    "data = pd.read_csv(config['data_path'])\n",
    "\n",
    "# Let's start by looking at the distribution of average grades across all students.\n",
    "plt.figure(figsize = (10, 6))\n",
    "sns.histplot(data['average_grade'], kde = True)\n",
    "plt.title('Distribution of Average Grades')\n",
    "plt.show()\n",
    "\n",
    "# Next, we’ll create a heatmap to see if any of the features are correlated.\n",
    "plt.figure(figsize = (12, 8))\n",
    "sns.heatmap(data[config['features']].corr(), annot = True, cmap = 'coolwarm')\n",
    "plt.title('Correlation Heatmap')\n",
    "plt.show()\n",
    "\n",
    "# How does the number of absences relate to dropout risk?\n",
    "plt.figure(figsize=(10, 6))\n",
    "sns.boxplot(x = 'dropout_risk', y = 'number_of_absences', data = data)\n",
    "plt.title('Absences and Dropout Risk')\n",
    "plt.show()\n",
    "\n",
    "# Finally, let's see if students who submit homework on time are less likely to drop out.\n",
    "plt.figure(figsize=(10, 6))\n",
    "sns.boxplot(x = 'dropout_risk', y = 'homework_submission_rate', data = data)\n",
    "plt.title('Homework Submission Rate vs Dropout Risk')\n",
    "plt.show()\n"
   ]
  }
 ],
 "metadata": {
  "language_info": {
   "name": "python"
  }
 },
 "nbformat": 4,
 "nbformat_minor": 2
}
